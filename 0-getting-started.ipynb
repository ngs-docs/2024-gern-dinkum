{
 "cells": [
  {
   "cell_type": "code",
   "execution_count": null,
   "id": "0ebc72c8-195f-4aed-9efe-7f0d6d77ab91",
   "metadata": {},
   "outputs": [],
   "source": [
    "import dinkum\n",
    "from dinkum.vfg import Gene, Receptor\n",
    "from dinkum.vfn import Tissue"
   ]
  },
  {
   "cell_type": "code",
   "execution_count": null,
   "id": "69cca81b-0d32-496d-9b80-90897d2760e9",
   "metadata": {},
   "outputs": [],
   "source": [
    "# Reset to empty lists\n",
    "dinkum.reset()\n",
    "\n",
    "print(\"The lists reset in the vfg method\")\n",
    "print(dinkum.vfg._rules)\n",
    "print(dinkum.vfg._gene_names)\n",
    "\n",
    "print(\"\\nThe lists reset in the vfn method\")\n",
    "print(dinkum.vfn._tissues)"
   ]
  },
  {
   "cell_type": "code",
   "execution_count": null,
   "id": "1930a2de-3533-4edc-bd58-756e4a174726",
   "metadata": {},
   "outputs": [],
   "source": [
    "# define a Gene with name 'X', assign it to variable 'x' in Python\n",
    "x = Gene(name='X')\n",
    "print(x)\n",
    "vars(x)"
   ]
  },
  {
   "cell_type": "code",
   "execution_count": null,
   "id": "f7903f68-2fb5-4c02-8fac-bb0ce5427b2c",
   "metadata": {},
   "outputs": [],
   "source": [
    "# define another Gene with name 'Y', assign it to variable 'y' in Python\n",
    "y = Gene(name='Y')\n",
    "print(y)\n",
    "vars(y)"
   ]
  },
  {
   "cell_type": "code",
   "execution_count": null,
   "id": "97ca5169-aebd-4508-8135-2970779c702a",
   "metadata": {},
   "outputs": [],
   "source": [
    "# create a Tissue, and add genes to it.\n",
    "m = Tissue(name='M')\n",
    "print(m)\n",
    "vars(m)"
   ]
  },
  {
   "cell_type": "code",
   "execution_count": null,
   "id": "70331923-0efe-4207-8272-3c2a0d2c63c0",
   "metadata": {},
   "outputs": [],
   "source": [
    "# run for 5 ticks (1 to 5)\n",
    "dinkum.run_and_display(stop=5)"
   ]
  },
  {
   "cell_type": "markdown",
   "id": "c200b6d8-599b-4411-b6af-c86642e242e6",
   "metadata": {},
   "source": [
    "Underwhelming, ehh? All the genes are off because ... we haven't turned any genes on!"
   ]
  },
  {
   "cell_type": "code",
   "execution_count": null,
   "id": "9f46fd1b-3108-4a10-80e9-482c9f8422d7",
   "metadata": {},
   "outputs": [],
   "source": [
    "# turn 'x' on in tissue m starting at time t\n",
    "x.is_present(where=m, start=1)"
   ]
  },
  {
   "cell_type": "code",
   "execution_count": null,
   "id": "e6e630ef-ae88-46a6-89fe-c5292bd1bde9",
   "metadata": {},
   "outputs": [],
   "source": [
    "# run for 5 ticks (1 to 5)\n",
    "dinkum.run_and_display(stop=5)"
   ]
  },
  {
   "cell_type": "markdown",
   "id": "eeecc139-25ac-4751-9091-757f4336ed5c",
   "metadata": {},
   "source": [
    "Better, but still underwhelming - we haven't defined any regulatory relationships! Let's turn some genes on, and provide an activator."
   ]
  },
  {
   "cell_type": "code",
   "execution_count": null,
   "id": "105ddeb7-f891-4de9-8843-431813255d0b",
   "metadata": {},
   "outputs": [],
   "source": [
    "# Empty the lists\n",
    "dinkum.reset()\n",
    "\n",
    "x = Gene(name='X')\n",
    "y = Gene(name='Y')\n",
    "m = Tissue(name='M')\n",
    "\n",
    "x.is_present(where=m, start=1)\n",
    "\n",
    "# now define a regulatory relationship!\n",
    "y.activated_by(source=x, delay=2)\n",
    "\n",
    "# run for 5 ticks (1 to 5)\n",
    "dinkum.run_and_display(stop=5)"
   ]
  },
  {
   "cell_type": "markdown",
   "id": "56ccb725-8f66-4462-a09e-8350d97e6703",
   "metadata": {},
   "source": [
    "So this is kind of the minimum you need for something interesting: you need to two genes; a tissue; a transcriptionally active gene; and a regulatory relationship with the other gene.\n",
    "\n",
    "What kind of regulatory interactions are possible?"
   ]
  },
  {
   "cell_type": "markdown",
   "id": "2b41e365-83ce-4c93-8cac-ac3a155a3dc5",
   "metadata": {},
   "source": [
    "## Cell-autonomous interactions\n",
    "\n",
    "There are many possible gene-gene interactions *within* a cell.\n",
    "\n",
    "We've already seen two - `is_present(where=tissue, start=None, duration=None)` and `activated_by(source, delay=1)`.\n",
    "\n",
    "Here's their description:\n",
    "\n",
    "* `is_present(where=tissue, start=None, duration=None)` - this gene is constitutively \"on\" from tick `start` for duration `duration`.\n",
    "* `activated_by(source, delay=1)` - `source` is an upstream activator that acts at the given delay (in ticks).\n",
    "\n",
    "Here are the remaining cell autonomous gene interactions that we have implemented:\n",
    "\n",
    "* `activated_or(sources=[...], delay=1)` - `sources` is a list of upstream activators, any one of which suffices to activate this gene.\n",
    "* `and_not(activator=..., repressor=..., delay=1)` - `activator` activates unless `repressor` is active.\n",
    "* `activated_by_and(sources=[...], delay=1)` - `sources` is a list of upstream activators, all of which must be present to activate this gene.\n",
    "* `toggle_repressed(tf=..., cofactor=..., delay=1)` - this gene is repressed if `tf` is absent, or if `tf` is present without `cofactor`; it is active if both`tf` and `cofactor` are present."
   ]
  },
  {
   "cell_type": "markdown",
   "id": "267f8a8a-fe60-4925-a3cf-919884411566",
   "metadata": {},
   "source": [
    "## Side note: introducing multiple regulatory influences via lists\n",
    "\n",
    "`activated_or` and `activated_by_and` both take *lists* of genes, as opposed to a single gene; to make a Python list, you enclose the genes in square brackets and separate them with commas, e.g. `[x, y]`. The notation is used as below for `z`:"
   ]
  },
  {
   "cell_type": "code",
   "execution_count": null,
   "id": "3002b20c-6f8c-4730-994e-7713d6888a73",
   "metadata": {},
   "outputs": [],
   "source": [
    "dinkum.reset()\n",
    "\n",
    "x = Gene(name='X')\n",
    "y = Gene(name='Y')\n",
    "z = Gene(name='Z')\n",
    "m = Tissue(name='M')\n",
    "\n",
    "x.is_present(where=m, start=1, duration=2)\n",
    "y.is_present(where=m, start=4, duration=2)\n",
    "\n",
    "z.activated_or(sources=[x, y])\n",
    "\n",
    "# run for 7 ticks\n",
    "dinkum.run_and_display(stop=7)"
   ]
  },
  {
   "cell_type": "markdown",
   "id": "f33cf882-e174-4770-bcb3-cc7a0d273b37",
   "metadata": {},
   "source": [
    "## Non-cell-autonomous regulation: interactions across cells/tissues\n",
    "\n",
    "dinkum provides the concept of \"tissues\", which are simply a collection of cells that have the same regulatory state.\n",
    "\n",
    "With multiple tissues, you need to define their neighborhood relationship - who is next to whom? - and, if you want them to cross-regulate, you need to define signaling factors and receptors.\n",
    "\n",
    "dinkum supports basic _ligands_ (signaling molecules) and _receptors_. In the dinkum model, ligands are genes that are transcribed (and so they must be transcriptionally activated in a tissue), and then they turn on corresponding receptors in neighboring tissues that are inherently transcriptional activators. The receptor also must be transcribed, but is does not activate downstream genes until the ligand is present.\n"
   ]
  },
  {
   "cell_type": "code",
   "execution_count": null,
   "id": "30bef2e6-21a4-45eb-a155-027e1ed17acb",
   "metadata": {},
   "outputs": [],
   "source": [
    "dinkum.reset()\n",
    "\n",
    "# create two tissues                                                               \n",
    "m = Tissue(name='M')\n",
    "n = Tissue(name='N')\n",
    "\n",
    "# make them neighbors.                                                          \n",
    "m.add_neighbor(neighbor=n)\n",
    "n.add_neighbor(neighbor=m)\n",
    "\n",
    "a = Gene(name='A')          # permanent positive input in M and N; will turn on receptor R                                                                             \n",
    "m.add_gene(gene=a, start=1)\n",
    "n.add_gene(gene=a, start=1)\n",
    "\n",
    "# VFG:                                                                      \n",
    "ligand = Gene(name='L')          # ligand                                   \n",
    "r = Receptor(name='R')           # receptor                                      \n",
    "y = Gene(name='Y')               # output         \n",
    "\n",
    "# ligand L: on in tissue M\n",
    "ligand.is_present(where=m, start=1, duration=6)\n",
    "\n",
    "# receptor R: transcribed by A, activated by ligand L.\n",
    "r.ligand(activator=a, ligand=ligand) \n",
    "\n",
    "# gene Y turned on by receptor R\n",
    "y.activated_by(source=r)    # transcription of Y turned on by activated R.  \n",
    "\n",
    "dinkum.run_and_display(stop=10)"
   ]
  },
  {
   "cell_type": "markdown",
   "id": "81a67315-7d29-4321-b973-2e04fc6bfdaf",
   "metadata": {},
   "source": [
    "## An intentional limitation of dinkum: only one regulatory rule is allowed per gene\n",
    "\n",
    "The following model fails; why?"
   ]
  },
  {
   "cell_type": "code",
   "execution_count": null,
   "id": "794a158a-5455-45f9-9351-b56d962fd506",
   "metadata": {},
   "outputs": [],
   "source": [
    "dinkum.reset()\n",
    "\n",
    "x = Gene(name='X')\n",
    "y = Gene(name='Y')\n",
    "m = Tissue(name='M')\n",
    "\n",
    "y.is_present(where=m, start=1)\n",
    "y.activated_by(source=x, delay=2)\n",
    "\n",
    "dinkum.run_and_display(stop=10)"
   ]
  },
  {
   "cell_type": "markdown",
   "id": "fe1c50c3-a4f4-4c32-84ee-3bc99b34a6cf",
   "metadata": {},
   "source": [
    "The problem here is that we're defining two distinct regulatory interactions for `Y` - it's both always present in tissue `M`, and turned on by `X`. That's not allowed, because dinkum wouldn't know how to combine the two interactions. So the rule that dinkum enforces is that there has to be one, and only one, regulatory rule defined for each gene."
   ]
  },
  {
   "cell_type": "code",
   "execution_count": null,
   "id": "8afab77b-7350-43b0-9031-155f5d5765e7",
   "metadata": {},
   "outputs": [],
   "source": []
  }
 ],
 "metadata": {
  "kernelspec": {
   "display_name": "Python 3 (ipykernel)",
   "language": "python",
   "name": "python3"
  },
  "language_info": {
   "codemirror_mode": {
    "name": "ipython",
    "version": 3
   },
   "file_extension": ".py",
   "mimetype": "text/x-python",
   "name": "python",
   "nbconvert_exporter": "python",
   "pygments_lexer": "ipython3",
   "version": "3.10.10"
  }
 },
 "nbformat": 4,
 "nbformat_minor": 5
}
