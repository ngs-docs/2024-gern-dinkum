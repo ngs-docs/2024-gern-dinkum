{
 "cells": [
  {
   "cell_type": "code",
   "execution_count": 1,
   "id": "f788b847-cd62-4dc2-960b-9df9bcc9149f",
   "metadata": {},
   "outputs": [],
   "source": [
    "import dinkum\n",
    "from dinkum.vfg import Gene, Receptor\n",
    "from dinkum.vfn import Tissue\n",
    "\n",
    "from dinkum.display import MultiTissuePanel, tc_record_activity"
   ]
  },
  {
   "cell_type": "markdown",
   "id": "48c386cd-352e-4c56-b926-cf1b650f43d1",
   "metadata": {},
   "source": [
    "# More advanced functionality\n",
    "\n",
    "For those who want to do more programming... dinkum is written in Python and you can access a lot of the internals. It's not super convenient though!"
   ]
  },
  {
   "cell_type": "markdown",
   "id": "ead8d154-f468-45c2-bb5a-59c232d4ffa0",
   "metadata": {},
   "source": [
    "## Accessing tissue/gene activity programmatically\n",
    "\n",
    "Here's an example where we directly access the gene states by tissue and timepoint."
   ]
  },
  {
   "cell_type": "code",
   "execution_count": 2,
   "id": "d46114c7-6b8d-4883-8a8d-5cec778f20b1",
   "metadata": {},
   "outputs": [
    {
     "name": "stdout",
     "output_type": "stream",
     "text": [
      "initializing: dinkum v0.3.1\n",
      "start=1 stop=5\n",
      "t=1\n",
      "\ttissue=M, ['X=1']\n",
      "t=2\n",
      "\ttissue=M, ['X=1', 'Y=0']\n",
      "t=3\n",
      "\ttissue=M, ['X=1', 'Y=1']\n",
      "t=4\n",
      "\ttissue=M, ['X=1', 'Y=1']\n",
      "t=5\n",
      "\ttissue=M, ['X=1', 'Y=1']\n",
      "False\n",
      "True\n"
     ]
    }
   ],
   "source": [
    "dinkum.reset()\n",
    "\n",
    "x = Gene(name='X')\n",
    "y = Gene(name='Y')\n",
    "m = Tissue(name='M')\n",
    "\n",
    "x.is_present(where=m, start=1)\n",
    "\n",
    "# now define a regulatory relationship!\n",
    "y.activated_by(source=x, delay=2)\n",
    "\n",
    "# run for 5 ticks (1 to 5)\n",
    "gene_names = dinkum.vfg.get_gene_names()\n",
    "tissue_names = dinkum.vfn.get_tissue_names()\n",
    "\n",
    "states, tissues, is_active_fn = tc_record_activity(start=1, stop=5, gene_names=gene_names, verbose=True)\n",
    "\n",
    "mp = MultiTissuePanel(states=states, tissue_names=tissue_names, genes_by_name=gene_names)\n",
    "mp.draw(is_active_fn)\n",
    "\n",
    "## access individual tissue/time activity\n",
    "tissue_name = 'M'\n",
    "timepoint = 't=1'\n",
    "gene_name = 'Y'\n",
    "print(is_active_fn(tissue_name, timepoint, gene_name))\n",
    "\n",
    "tissue_name = 'M'\n",
    "timepoint = 't=5'\n",
    "gene_name = 'Y'\n",
    "print(is_active_fn(tissue_name, timepoint, gene_name))"
   ]
  },
  {
   "cell_type": "code",
   "execution_count": null,
   "id": "b84dc0a0-a14c-47b5-a424-ae587e9a533f",
   "metadata": {},
   "outputs": [],
   "source": []
  }
 ],
 "metadata": {
  "kernelspec": {
   "display_name": "Python 3 (ipykernel)",
   "language": "python",
   "name": "python3"
  },
  "language_info": {
   "codemirror_mode": {
    "name": "ipython",
    "version": 3
   },
   "file_extension": ".py",
   "mimetype": "text/x-python",
   "name": "python",
   "nbconvert_exporter": "python",
   "pygments_lexer": "ipython3",
   "version": "3.11.6"
  }
 },
 "nbformat": 4,
 "nbformat_minor": 5
}
