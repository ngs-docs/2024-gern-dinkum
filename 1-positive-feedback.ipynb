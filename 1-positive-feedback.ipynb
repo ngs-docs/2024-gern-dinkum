{
 "cells": [
  {
   "cell_type": "code",
   "execution_count": 1,
   "id": "040ae377-699a-471a-bbdf-c469ecfea4d5",
   "metadata": {},
   "outputs": [],
   "source": [
    "import dinkum\n",
    "from dinkum.vfg import Gene, Receptor\n",
    "from dinkum.vfn import Tissue"
   ]
  },
  {
   "cell_type": "markdown",
   "id": "1e9b35b7-c230-4a41-9a1a-cb2cf34bb68b",
   "metadata": {},
   "source": [
    "Change the below code to implement a positive feedback subcircuit:\n",
    "\n",
    "![positive feedback](images/positive-feedback-loop.png)"
   ]
  },
  {
   "cell_type": "code",
   "execution_count": 2,
   "id": "989780fe-2f7a-4ac2-ae47-d9ee1bd967ee",
   "metadata": {},
   "outputs": [
    {
     "name": "stdout",
     "output_type": "stream",
     "text": [
      "initializing: dinkum v0.3\n",
      "start=1 stop=5\n"
     ]
    },
    {
     "data": {
      "image/jpeg": "[encoded data removed]",
      "image/png": "[encoded data removed]",
      "text/plain": [
       "<PIL.Image.Image image mode=RGB size=160x230>"
      ]
     },
     "execution_count": 2,
     "metadata": {},
     "output_type": "execute_result"
    }
   ],
   "source": [
    "dinkum.reset()\n",
    "\n",
    "x = Gene(name='X')\n",
    "y = Gene(name='Y')\n",
    "m = Tissue(name='M')\n",
    "\n",
    "x.is_present(where=m, start=1)\n",
    "\n",
    "# now define a regulatory relationship!\n",
    "y.activated_by(source=x, delay=2)\n",
    "\n",
    "# run for 5 ticks (1 to 5)\n",
    "dinkum.run_and_display(stop=5)"
   ]
  },
  {
   "cell_type": "code",
   "execution_count": null,
   "id": "643a44f4-5c11-4577-b785-f97c560e842a",
   "metadata": {},
   "outputs": [],
   "source": []
  }
 ],
 "metadata": {
  "kernelspec": {
   "display_name": "Python 3 (ipykernel)",
   "language": "python",
   "name": "python3"
  },
  "language_info": {
   "codemirror_mode": {
    "name": "ipython",
    "version": 3
   },
   "file_extension": ".py",
   "mimetype": "text/x-python",
   "name": "python",
   "nbconvert_exporter": "python",
   "pygments_lexer": "ipython3",
   "version": "3.11.6"
  }
 },
 "nbformat": 4,
 "nbformat_minor": 5
}
